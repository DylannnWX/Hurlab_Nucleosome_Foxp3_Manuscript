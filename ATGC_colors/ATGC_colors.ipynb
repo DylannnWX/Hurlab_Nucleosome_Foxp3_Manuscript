{
 "cells": [
  {
   "cell_type": "code",
   "execution_count": 2,
   "id": "cab72900",
   "metadata": {},
   "outputs": [
    {
     "data": {
      "text/html": [
       "<span style=\"color:black\">G</span><span style=\"color:#a64ca6\">C</span><span style=\"color:red\">T</span><span style=\"color:#a64ca6\">C</span><span style=\"color:black\">G</span><span style=\"color:black\">G</span><span style=\"color:black\">G</span><span style=\"color:red\">T</span><span style=\"color:red\">T</span><span style=\"color:black\">G</span><span style=\"color:red\">T</span><span style=\"color:black\">G</span><span style=\"color:red\">T</span><span style=\"color:red\">T</span><span style=\"color:black\">G</span><span style=\"color:red\">T</span><span style=\"color:red\">T</span><span style=\"color:black\">G</span><span style=\"color:red\">T</span><span style=\"color:red\">T</span><span style=\"color:black\">G</span><span style=\"color:red\">T</span><span style=\"color:red\">T</span><span style=\"color:red\">T</span><span style=\"color:red\">T</span><span style=\"color:black\">G</span><span style=\"color:#008000\">A</span><span style=\"color:red\">T</span><span style=\"color:red\">T</span><span style=\"color:red\">T</span><span style=\"color:black\">G</span><span style=\"color:#008000\">A</span><span style=\"color:red\">T</span><span style=\"color:red\">T</span><span style=\"color:red\">T</span><span style=\"color:black\">G</span><span style=\"color:#008000\">A</span><span style=\"color:red\">T</span><span style=\"color:red\">T</span><span style=\"color:red\">T</span><span style=\"color:black\">G</span><span style=\"color:#008000\">A</span><span style=\"color:red\">T</span><span style=\"color:red\">T</span><span style=\"color:red\">T</span><span style=\"color:black\">G</span><span style=\"color:#008000\">A</span><span style=\"color:#a64ca6\">C</span><span style=\"color:red\">T</span><span style=\"color:red\">T</span><span style=\"color:black\">G</span><span style=\"color:#008000\">A</span><span style=\"color:red\">T</span><span style=\"color:red\">T</span><span style=\"color:red\">T</span><span style=\"color:black\">G</span><span style=\"color:black\">G</span><span style=\"color:red\">T</span><span style=\"color:red\">T</span><span style=\"color:red\">T</span><span style=\"color:black\">G</span><span style=\"color:red\">T</span><span style=\"color:red\">T</span><span style=\"color:red\">T</span><span style=\"color:red\">T</span><span style=\"color:black\">G</span><span style=\"color:#008000\">A</span><span style=\"color:red\">T</span><span style=\"color:red\">T</span><span style=\"color:red\">T</span><span style=\"color:black\">G</span><span style=\"color:#008000\">A</span><span style=\"color:red\">T</span><span style=\"color:red\">T</span><span style=\"color:red\">T</span><span style=\"color:black\">G</span><span style=\"color:red\">T</span><span style=\"color:red\">T</span><span style=\"color:red\">T</span><span style=\"color:red\">T</span><span style=\"color:red\">T</span><span style=\"color:red\">T</span><span style=\"color:#008000\">A</span><span style=\"color:red\">T</span><span style=\"color:black\">G</span><span style=\"color:#a64ca6\">C</span><span style=\"color:red\">T</span><span style=\"color:red\">T</span><span style=\"color:black\">G</span><span style=\"color:red\">T</span><span style=\"color:#a64ca6\">C</span>"
      ],
      "text/plain": [
       "<IPython.core.display.HTML object>"
      ]
     },
     "metadata": {},
     "output_type": "display_data"
    },
    {
     "data": {
      "text/plain": [
       "91"
      ]
     },
     "execution_count": 2,
     "metadata": {},
     "output_type": "execute_result"
    }
   ],
   "source": [
    "from IPython.display import display, HTML\n",
    "\n",
    "def color_sequence(sequence):\n",
    "    # Create a dictionary to map each nucleotide to its color\n",
    "    color_map = {\n",
    "        'A': '#008000',  # Green hex code\n",
    "        'C': '#a64ca6',  # Lighter purple (hex code)\n",
    "        'T': 'red',\n",
    "        'G': 'black'\n",
    "    }\n",
    "\n",
    "    \n",
    "    # Initialize an empty string to store the HTML\n",
    "    colored_sequence = ''\n",
    "    \n",
    "    # Iterate over the sequence and wrap each nucleotide in a span with the appropriate color\n",
    "    for nucleotide in sequence:\n",
    "        colored_sequence += f'<span style=\"color:{color_map[nucleotide]}\">{nucleotide}</span>'\n",
    "    \n",
    "    # Display the colored sequence using HTML\n",
    "    display(HTML(colored_sequence))\n",
    "\n",
    "# Example usage\n",
    "sequence = \"GCTCGGGTTGTGTTGTTGTTGTTTTGATTTGATTTGATTTGATTTGACTTGATTTGGTTTGTTTTGATTTGATTTGTTTTTTATGCTTGTC\"\n",
    "color_sequence(sequence)\n",
    "len(sequence)"
   ]
  },
  {
   "cell_type": "code",
   "execution_count": null,
   "id": "61671dd3",
   "metadata": {},
   "outputs": [],
   "source": []
  }
 ],
 "metadata": {
  "kernelspec": {
   "display_name": "Python 3 (ipykernel)",
   "language": "python",
   "name": "python3"
  },
  "language_info": {
   "codemirror_mode": {
    "name": "ipython",
    "version": 3
   },
   "file_extension": ".py",
   "mimetype": "text/x-python",
   "name": "python",
   "nbconvert_exporter": "python",
   "pygments_lexer": "ipython3",
   "version": "3.9.12"
  }
 },
 "nbformat": 4,
 "nbformat_minor": 5
}
